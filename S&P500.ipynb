{
 "cells": [
  {
   "cell_type": "code",
   "execution_count": 1,
   "id": "19b79421",
   "metadata": {
    "ExecuteTime": {
     "end_time": "2021-12-29T08:45:11.996118Z",
     "start_time": "2021-12-29T08:45:11.440682Z"
    }
   },
   "outputs": [],
   "source": [
    "import numpy as np\n",
    "import pandas as pd\n",
    "import pandas_datareader.data as web\n",
    "\n",
    "import pickle\n",
    "import requests\n",
    "import bs4 as bs\n",
    "\n",
    "import datetime as dt\n",
    "import os"
   ]
  },
  {
   "cell_type": "code",
   "execution_count": 2,
   "id": "f065780d",
   "metadata": {
    "ExecuteTime": {
     "end_time": "2021-12-29T08:45:12.026966Z",
     "start_time": "2021-12-29T08:45:11.997339Z"
    }
   },
   "outputs": [],
   "source": [
    "from tqdm import tqdm\n",
    "\n",
    "import yfinance as yfin\n",
    "yfin.pdr_override()"
   ]
  },
  {
   "cell_type": "code",
   "execution_count": 3,
   "id": "e54ed2dd",
   "metadata": {
    "ExecuteTime": {
     "end_time": "2021-12-29T08:45:12.119394Z",
     "start_time": "2021-12-29T08:45:12.028811Z"
    }
   },
   "outputs": [],
   "source": [
    "def save_sp500_tickers():\n",
    "    resp = requests.get(\n",
    "        'https://en.wikipedia.org/wiki/List_of_S%26P_500_companies')\n",
    "    soup = bs.BeautifulSoup(resp.text, 'lxml')\n",
    "    table = soup.find('table', {'id': 'constituents'})\n",
    "\n",
    "    tickers = []\n",
    "    for row in table.findAll('tr')[1:]:\n",
    "        tickers.append(row.findAll('td')[0].text.replace('\\n', ''))\n",
    "\n",
    "    with open(\"sp500tickers.pickle\", \"wb\") as f:\n",
    "        pickle.dump(tickers, f)\n",
    "\n",
    "    return np.array(tickers)"
   ]
  },
  {
   "cell_type": "code",
   "execution_count": 4,
   "id": "28ad1155",
   "metadata": {
    "ExecuteTime": {
     "end_time": "2021-12-29T08:45:12.242755Z",
     "start_time": "2021-12-29T08:45:12.120776Z"
    }
   },
   "outputs": [],
   "source": [
    "def get_data_from_yahoo(reload_sp500=False):\n",
    "    if reload_sp500:\n",
    "        tickers = save_sp500_tickers()\n",
    "    else:\n",
    "        with open(\"sp500tickers.pickle\", \"rb\") as f:\n",
    "            tickers = pickle.load(f)\n",
    "    if not os.path.exists('stock_dfs'):\n",
    "        os.makedirs('stock_dfs')\n",
    "\n",
    "    start = dt.datetime(2000, 1, 1)\n",
    "    end = dt.datetime(2016, 12, 31)\n",
    "\n",
    "    for ticker in tqdm(tickers):\n",
    "        if not os.path.exists('stock_dfs/{}.csv'.format(ticker)):\n",
    "            df = web.get_data_yahoo(ticker, start, end)\n",
    "            df.to_csv('stock_dfs/{}.csv'.format(ticker))\n",
    "        else:\n",
    "            print('Already have {}'.format(ticker))"
   ]
  },
  {
   "cell_type": "code",
   "execution_count": 5,
   "id": "044edab1",
   "metadata": {
    "ExecuteTime": {
     "end_time": "2021-12-29T08:45:12.350537Z",
     "start_time": "2021-12-29T08:45:12.244095Z"
    }
   },
   "outputs": [],
   "source": [
    "# get_data_from_yahoo()"
   ]
  },
  {
   "cell_type": "code",
   "execution_count": 6,
   "id": "66a57a1a",
   "metadata": {
    "ExecuteTime": {
     "end_time": "2021-12-29T08:45:12.473750Z",
     "start_time": "2021-12-29T08:45:12.351891Z"
    }
   },
   "outputs": [],
   "source": [
    "def compile_data():\n",
    "    with open(\"sp500tickers.pickle\", 'rb') as f:\n",
    "        tickers = pickle.load(f)\n",
    "\n",
    "    main_df = pd.DataFrame()\n",
    "\n",
    "    for ticker in tqdm(tickers):\n",
    "        df = pd.read_csv('stock_dfs/{}.csv'.format(ticker))\n",
    "        df.set_index('Date', inplace=True)\n",
    "\n",
    "        df.rename(columns={'Adj Close': ticker}, inplace=True)\n",
    "\n",
    "        df.drop(['Open', 'High', 'Low', 'Close', 'Volume'],\n",
    "                axis=1, inplace=True)\n",
    "\n",
    "        if main_df.empty:\n",
    "            main_df = df\n",
    "        else:\n",
    "            main_df = main_df.join(df, how='outer')\n",
    "    main_df.to_csv('sp500_joined_adjcloses.csv')"
   ]
  },
  {
   "cell_type": "code",
   "execution_count": 7,
   "id": "5bb2bcb9",
   "metadata": {
    "ExecuteTime": {
     "end_time": "2021-12-29T08:45:40.434405Z",
     "start_time": "2021-12-29T08:45:12.475095Z"
    }
   },
   "outputs": [
    {
     "name": "stderr",
     "output_type": "stream",
     "text": [
      "100%|███████████| 505/505 [00:24<00:00, 20.22it/s]\n"
     ]
    }
   ],
   "source": [
    "compile_data()"
   ]
  },
  {
   "cell_type": "code",
   "execution_count": 8,
   "id": "3991de8e",
   "metadata": {
    "ExecuteTime": {
     "end_time": "2021-12-29T08:45:40.930398Z",
     "start_time": "2021-12-29T08:45:40.435897Z"
    }
   },
   "outputs": [
    {
     "data": {
      "text/html": [
       "<div>\n",
       "<style scoped>\n",
       "    .dataframe tbody tr th:only-of-type {\n",
       "        vertical-align: middle;\n",
       "    }\n",
       "\n",
       "    .dataframe tbody tr th {\n",
       "        vertical-align: top;\n",
       "    }\n",
       "\n",
       "    .dataframe thead th {\n",
       "        text-align: right;\n",
       "    }\n",
       "</style>\n",
       "<table border=\"1\" class=\"dataframe\">\n",
       "  <thead>\n",
       "    <tr style=\"text-align: right;\">\n",
       "      <th></th>\n",
       "      <th>0</th>\n",
       "      <th>1</th>\n",
       "      <th>2</th>\n",
       "      <th>3</th>\n",
       "      <th>4</th>\n",
       "    </tr>\n",
       "  </thead>\n",
       "  <tbody>\n",
       "    <tr>\n",
       "      <th>Date</th>\n",
       "      <td>1999-12-31</td>\n",
       "      <td>2000-01-03</td>\n",
       "      <td>2000-01-04</td>\n",
       "      <td>2000-01-05</td>\n",
       "      <td>2000-01-06</td>\n",
       "    </tr>\n",
       "    <tr>\n",
       "      <th>MMM</th>\n",
       "      <td>NaN</td>\n",
       "      <td>26.960117</td>\n",
       "      <td>25.888851</td>\n",
       "      <td>26.638727</td>\n",
       "      <td>28.781269</td>\n",
       "    </tr>\n",
       "    <tr>\n",
       "      <th>ABT</th>\n",
       "      <td>NaN</td>\n",
       "      <td>9.418205</td>\n",
       "      <td>9.149119</td>\n",
       "      <td>9.132298</td>\n",
       "      <td>9.451843</td>\n",
       "    </tr>\n",
       "    <tr>\n",
       "      <th>ABBV</th>\n",
       "      <td>NaN</td>\n",
       "      <td>NaN</td>\n",
       "      <td>NaN</td>\n",
       "      <td>NaN</td>\n",
       "      <td>NaN</td>\n",
       "    </tr>\n",
       "    <tr>\n",
       "      <th>ABMD</th>\n",
       "      <td>NaN</td>\n",
       "      <td>18.25</td>\n",
       "      <td>17.8125</td>\n",
       "      <td>18.0</td>\n",
       "      <td>18.03125</td>\n",
       "    </tr>\n",
       "    <tr>\n",
       "      <th>...</th>\n",
       "      <td>...</td>\n",
       "      <td>...</td>\n",
       "      <td>...</td>\n",
       "      <td>...</td>\n",
       "      <td>...</td>\n",
       "    </tr>\n",
       "    <tr>\n",
       "      <th>YUM</th>\n",
       "      <td>5.056148</td>\n",
       "      <td>4.884338</td>\n",
       "      <td>4.78616</td>\n",
       "      <td>4.810703</td>\n",
       "      <td>4.769797</td>\n",
       "    </tr>\n",
       "    <tr>\n",
       "      <th>ZBRA</th>\n",
       "      <td>26.0</td>\n",
       "      <td>25.027779</td>\n",
       "      <td>24.666668</td>\n",
       "      <td>25.138889</td>\n",
       "      <td>23.777779</td>\n",
       "    </tr>\n",
       "    <tr>\n",
       "      <th>ZBH</th>\n",
       "      <td>NaN</td>\n",
       "      <td>NaN</td>\n",
       "      <td>NaN</td>\n",
       "      <td>NaN</td>\n",
       "      <td>NaN</td>\n",
       "    </tr>\n",
       "    <tr>\n",
       "      <th>ZION</th>\n",
       "      <td>41.592228</td>\n",
       "      <td>39.000938</td>\n",
       "      <td>37.1124</td>\n",
       "      <td>37.068459</td>\n",
       "      <td>37.59549</td>\n",
       "    </tr>\n",
       "    <tr>\n",
       "      <th>ZTS</th>\n",
       "      <td>NaN</td>\n",
       "      <td>NaN</td>\n",
       "      <td>NaN</td>\n",
       "      <td>NaN</td>\n",
       "      <td>NaN</td>\n",
       "    </tr>\n",
       "  </tbody>\n",
       "</table>\n",
       "<p>506 rows × 5 columns</p>\n",
       "</div>"
      ],
      "text/plain": [
       "               0           1           2           3           4\n",
       "Date  1999-12-31  2000-01-03  2000-01-04  2000-01-05  2000-01-06\n",
       "MMM          NaN   26.960117   25.888851   26.638727   28.781269\n",
       "ABT          NaN    9.418205    9.149119    9.132298    9.451843\n",
       "ABBV         NaN         NaN         NaN         NaN         NaN\n",
       "ABMD         NaN       18.25     17.8125        18.0    18.03125\n",
       "...          ...         ...         ...         ...         ...\n",
       "YUM     5.056148    4.884338     4.78616    4.810703    4.769797\n",
       "ZBRA        26.0   25.027779   24.666668   25.138889   23.777779\n",
       "ZBH          NaN         NaN         NaN         NaN         NaN\n",
       "ZION   41.592228   39.000938     37.1124   37.068459    37.59549\n",
       "ZTS          NaN         NaN         NaN         NaN         NaN\n",
       "\n",
       "[506 rows x 5 columns]"
      ]
     },
     "execution_count": 8,
     "metadata": {},
     "output_type": "execute_result"
    }
   ],
   "source": [
    "df = pd.read_csv('sp500_joined_adjcloses.csv')\n",
    "df.head().T"
   ]
  }
 ],
 "metadata": {
  "kernelspec": {
   "display_name": "Python 3 (ipykernel)",
   "language": "python",
   "name": "python3"
  },
  "language_info": {
   "codemirror_mode": {
    "name": "ipython",
    "version": 3
   },
   "file_extension": ".py",
   "mimetype": "text/x-python",
   "name": "python",
   "nbconvert_exporter": "python",
   "pygments_lexer": "ipython3",
   "version": "3.9.7"
  }
 },
 "nbformat": 4,
 "nbformat_minor": 5
}
