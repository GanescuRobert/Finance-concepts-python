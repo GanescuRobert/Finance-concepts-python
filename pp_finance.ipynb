{
 "cells": [
  {
   "cell_type": "code",
   "execution_count": 1,
   "metadata": {
    "ExecuteTime": {
     "end_time": "2021-12-28T23:14:59.506453Z",
     "start_time": "2021-12-28T23:14:57.634921Z"
    }
   },
   "outputs": [],
   "source": [
    "import datetime as dt\n",
    "import matplotlib.pyplot as plt\n",
    "\n",
    "import matplotlib.dates as mdates\n",
    "from matplotlib import style\n",
    "from mplfinance.original_flavor import candlestick_ohlc\n",
    "\n",
    "import pandas as pd\n",
    "import pandas_datareader.data as web\n",
    "\n",
    "%matplotlib inline"
   ]
  },
  {
   "cell_type": "code",
   "execution_count": 2,
   "metadata": {
    "ExecuteTime": {
     "end_time": "2021-12-28T23:14:59.521917Z",
     "start_time": "2021-12-28T23:14:59.508041Z"
    }
   },
   "outputs": [],
   "source": [
    "style.use('ggplot')"
   ]
  },
  {
   "cell_type": "code",
   "execution_count": 3,
   "metadata": {
    "ExecuteTime": {
     "end_time": "2021-12-28T23:14:59.568174Z",
     "start_time": "2021-12-28T23:14:59.525424Z"
    }
   },
   "outputs": [],
   "source": [
    "df = pd.read_csv('tsla.csv', parse_dates=True, index_col=0)"
   ]
  },
  {
   "cell_type": "code",
   "execution_count": 4,
   "metadata": {
    "ExecuteTime": {
     "end_time": "2021-12-28T23:14:59.598927Z",
     "start_time": "2021-12-28T23:14:59.569918Z"
    }
   },
   "outputs": [],
   "source": [
    "df_ohlc = df['Adj Close'].resample('10D').ohlc()\n",
    "df_volume = df['Volume'].resample('10D').sum()"
   ]
  },
  {
   "cell_type": "code",
   "execution_count": 5,
   "metadata": {
    "ExecuteTime": {
     "end_time": "2021-12-28T23:14:59.660920Z",
     "start_time": "2021-12-28T23:14:59.600922Z"
    }
   },
   "outputs": [
    {
     "data": {
      "text/html": [
       "<div>\n",
       "<style scoped>\n",
       "    .dataframe tbody tr th:only-of-type {\n",
       "        vertical-align: middle;\n",
       "    }\n",
       "\n",
       "    .dataframe tbody tr th {\n",
       "        vertical-align: top;\n",
       "    }\n",
       "\n",
       "    .dataframe thead th {\n",
       "        text-align: right;\n",
       "    }\n",
       "</style>\n",
       "<table border=\"1\" class=\"dataframe\">\n",
       "  <thead>\n",
       "    <tr style=\"text-align: right;\">\n",
       "      <th></th>\n",
       "      <th>Date</th>\n",
       "      <th>open</th>\n",
       "      <th>high</th>\n",
       "      <th>low</th>\n",
       "      <th>close</th>\n",
       "    </tr>\n",
       "  </thead>\n",
       "  <tbody>\n",
       "    <tr>\n",
       "      <th>0</th>\n",
       "      <td>14789.0</td>\n",
       "      <td>4.778000</td>\n",
       "      <td>4.778000</td>\n",
       "      <td>3.160000</td>\n",
       "      <td>3.492000</td>\n",
       "    </tr>\n",
       "    <tr>\n",
       "      <th>1</th>\n",
       "      <td>14799.0</td>\n",
       "      <td>3.480000</td>\n",
       "      <td>4.128000</td>\n",
       "      <td>3.410000</td>\n",
       "      <td>4.128000</td>\n",
       "    </tr>\n",
       "    <tr>\n",
       "      <th>2</th>\n",
       "      <td>14809.0</td>\n",
       "      <td>4.382000</td>\n",
       "      <td>4.382000</td>\n",
       "      <td>4.044000</td>\n",
       "      <td>4.144000</td>\n",
       "    </tr>\n",
       "    <tr>\n",
       "      <th>3</th>\n",
       "      <td>14819.0</td>\n",
       "      <td>4.070000</td>\n",
       "      <td>4.390000</td>\n",
       "      <td>3.918000</td>\n",
       "      <td>3.918000</td>\n",
       "    </tr>\n",
       "    <tr>\n",
       "      <th>4</th>\n",
       "      <td>14829.0</td>\n",
       "      <td>3.920000</td>\n",
       "      <td>3.920000</td>\n",
       "      <td>3.520000</td>\n",
       "      <td>3.830000</td>\n",
       "    </tr>\n",
       "    <tr>\n",
       "      <th>...</th>\n",
       "      <td>...</td>\n",
       "      <td>...</td>\n",
       "      <td>...</td>\n",
       "      <td>...</td>\n",
       "      <td>...</td>\n",
       "    </tr>\n",
       "    <tr>\n",
       "      <th>197</th>\n",
       "      <td>16759.0</td>\n",
       "      <td>44.001999</td>\n",
       "      <td>46.321999</td>\n",
       "      <td>43.549999</td>\n",
       "      <td>46.321999</td>\n",
       "    </tr>\n",
       "    <tr>\n",
       "      <th>198</th>\n",
       "      <td>16769.0</td>\n",
       "      <td>46.051998</td>\n",
       "      <td>47.438000</td>\n",
       "      <td>44.903999</td>\n",
       "      <td>44.903999</td>\n",
       "    </tr>\n",
       "    <tr>\n",
       "      <th>199</th>\n",
       "      <td>16779.0</td>\n",
       "      <td>45.414001</td>\n",
       "      <td>46.902000</td>\n",
       "      <td>43.403999</td>\n",
       "      <td>46.091999</td>\n",
       "    </tr>\n",
       "    <tr>\n",
       "      <th>200</th>\n",
       "      <td>16789.0</td>\n",
       "      <td>46.512001</td>\n",
       "      <td>47.438000</td>\n",
       "      <td>45.790001</td>\n",
       "      <td>47.438000</td>\n",
       "    </tr>\n",
       "    <tr>\n",
       "      <th>201</th>\n",
       "      <td>16799.0</td>\n",
       "      <td>47.618000</td>\n",
       "      <td>48.001999</td>\n",
       "      <td>47.618000</td>\n",
       "      <td>48.001999</td>\n",
       "    </tr>\n",
       "  </tbody>\n",
       "</table>\n",
       "<p>202 rows × 5 columns</p>\n",
       "</div>"
      ],
      "text/plain": [
       "        Date       open       high        low      close\n",
       "0    14789.0   4.778000   4.778000   3.160000   3.492000\n",
       "1    14799.0   3.480000   4.128000   3.410000   4.128000\n",
       "2    14809.0   4.382000   4.382000   4.044000   4.144000\n",
       "3    14819.0   4.070000   4.390000   3.918000   3.918000\n",
       "4    14829.0   3.920000   3.920000   3.520000   3.830000\n",
       "..       ...        ...        ...        ...        ...\n",
       "197  16759.0  44.001999  46.321999  43.549999  46.321999\n",
       "198  16769.0  46.051998  47.438000  44.903999  44.903999\n",
       "199  16779.0  45.414001  46.902000  43.403999  46.091999\n",
       "200  16789.0  46.512001  47.438000  45.790001  47.438000\n",
       "201  16799.0  47.618000  48.001999  47.618000  48.001999\n",
       "\n",
       "[202 rows x 5 columns]"
      ]
     },
     "execution_count": 5,
     "metadata": {},
     "output_type": "execute_result"
    }
   ],
   "source": [
    "df_ohlc.reset_index(inplace=True)\n",
    "df_ohlc['Date'] = df_ohlc['Date'].map(mdates.date2num)\n",
    "df_ohlc"
   ]
  },
  {
   "cell_type": "code",
   "execution_count": 6,
   "metadata": {
    "ExecuteTime": {
     "end_time": "2021-12-28T23:15:00.728920Z",
     "start_time": "2021-12-28T23:14:59.663959Z"
    }
   },
   "outputs": [
    {
     "data": {
      "image/png": "[encoded data removed]",
      "text/plain": [
       "<Figure size 432x288 with 2 Axes>"
      ]
     },
     "metadata": {},
     "output_type": "display_data"
    }
   ],
   "source": [
    "ax1 = plt.subplot2grid((6, 1), (0, 0), rowspan=5, colspan=1)\n",
    "ax2 = plt.subplot2grid((6, 1), (5, 0), rowspan=1, colspan=1, sharex=ax1)\n",
    "ax1.xaxis_date()\n",
    "candlestick_ohlc(ax1, df_ohlc.values, width=2, colorup='g')\n",
    "ax2.fill_between(df_volume.index.map(mdates.date2num), df_volume.values, 0)\n",
    "plt.show()"
   ]
  }
 ],
 "metadata": {
  "interpreter": {
   "hash": "b52b0558b1127d624d881a850403e0dce177c8629bf58109f12fa87679216af6"
  },
  "kernelspec": {
   "display_name": "Python 3 (ipykernel)",
   "language": "python",
   "name": "python3"
  },
  "language_info": {
   "codemirror_mode": {
    "name": "ipython",
    "version": 3
   },
   "file_extension": ".py",
   "mimetype": "text/x-python",
   "name": "python",
   "nbconvert_exporter": "python",
   "pygments_lexer": "ipython3",
   "version": "3.9.7"
  }
 },
 "nbformat": 4,
 "nbformat_minor": 2
}
