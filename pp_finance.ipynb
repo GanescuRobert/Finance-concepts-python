{
 "cells": [
  {
   "cell_type": "code",
   "execution_count": 51,
   "metadata": {
    "ExecuteTime": {
     "end_time": "2021-12-28T20:17:50.295852Z",
     "start_time": "2021-12-28T20:17:50.065414Z"
    }
   },
   "outputs": [],
   "source": [
    "import datetime as dt\n",
    "import matplotlib.pyplot as plt\n",
    "from matplotlib import style\n",
    "\n",
    "import pandas as pd\n",
    "import pandas_datareader.data as web\n",
    "%matplotlib qt"
   ]
  },
  {
   "cell_type": "code",
   "execution_count": 52,
   "metadata": {
    "ExecuteTime": {
     "end_time": "2021-12-28T20:17:51.589724Z",
     "start_time": "2021-12-28T20:17:51.582191Z"
    }
   },
   "outputs": [],
   "source": [
    "style.use('ggplot')"
   ]
  },
  {
   "cell_type": "code",
   "execution_count": 53,
   "metadata": {
    "ExecuteTime": {
     "end_time": "2021-12-28T20:17:51.804947Z",
     "start_time": "2021-12-28T20:17:51.796448Z"
    }
   },
   "outputs": [],
   "source": [
    "# start = dt.datetime(2000,1,1)\n",
    "# end = dt.datetime(2015,12,31)"
   ]
  },
  {
   "cell_type": "code",
   "execution_count": 54,
   "metadata": {
    "ExecuteTime": {
     "end_time": "2021-12-28T20:17:52.005738Z",
     "start_time": "2021-12-28T20:17:51.999211Z"
    }
   },
   "outputs": [],
   "source": [
    "# df = web.DataReader('TSLA','yahoo',start,end)\n",
    "# df.to_csv('tsla.csv')"
   ]
  },
  {
   "cell_type": "code",
   "execution_count": 55,
   "metadata": {
    "ExecuteTime": {
     "end_time": "2021-12-28T20:17:52.221498Z",
     "start_time": "2021-12-28T20:17:52.201222Z"
    }
   },
   "outputs": [],
   "source": [
    "df = pd.read_csv('tsla.csv', parse_dates=True, index_col=0)"
   ]
  },
  {
   "cell_type": "code",
   "execution_count": 56,
   "metadata": {
    "ExecuteTime": {
     "end_time": "2021-12-28T20:17:52.406411Z",
     "start_time": "2021-12-28T20:17:52.393408Z"
    }
   },
   "outputs": [],
   "source": [
    "# df.head()"
   ]
  },
  {
   "cell_type": "code",
   "execution_count": 57,
   "metadata": {
    "ExecuteTime": {
     "end_time": "2021-12-28T20:17:52.560335Z",
     "start_time": "2021-12-28T20:17:52.551178Z"
    }
   },
   "outputs": [],
   "source": [
    "# df[['Open', 'High']].head()"
   ]
  },
  {
   "cell_type": "code",
   "execution_count": 58,
   "metadata": {
    "ExecuteTime": {
     "end_time": "2021-12-28T20:17:52.744766Z",
     "start_time": "2021-12-28T20:17:52.741267Z"
    }
   },
   "outputs": [],
   "source": [
    "# df['Adj Close'].plot(ylabel='Adj Close', figsize=(15,6))"
   ]
  },
  {
   "cell_type": "code",
   "execution_count": 59,
   "metadata": {
    "ExecuteTime": {
     "end_time": "2021-12-28T20:17:52.929935Z",
     "start_time": "2021-12-28T20:17:52.910372Z"
    }
   },
   "outputs": [],
   "source": [
    "df['100ma'] = df['Adj Close'].rolling(window=100, min_periods=0).mean()"
   ]
  },
  {
   "cell_type": "code",
   "execution_count": 60,
   "metadata": {
    "ExecuteTime": {
     "end_time": "2021-12-28T20:17:53.099509Z",
     "start_time": "2021-12-28T20:17:53.088007Z"
    }
   },
   "outputs": [
    {
     "data": {
      "text/html": [
       "<div>\n",
       "<style scoped>\n",
       "    .dataframe tbody tr th:only-of-type {\n",
       "        vertical-align: middle;\n",
       "    }\n",
       "\n",
       "    .dataframe tbody tr th {\n",
       "        vertical-align: top;\n",
       "    }\n",
       "\n",
       "    .dataframe thead th {\n",
       "        text-align: right;\n",
       "    }\n",
       "</style>\n",
       "<table border=\"1\" class=\"dataframe\">\n",
       "  <thead>\n",
       "    <tr style=\"text-align: right;\">\n",
       "      <th></th>\n",
       "      <th>High</th>\n",
       "      <th>Low</th>\n",
       "      <th>Open</th>\n",
       "      <th>Close</th>\n",
       "      <th>Volume</th>\n",
       "      <th>Adj Close</th>\n",
       "      <th>100ma</th>\n",
       "    </tr>\n",
       "    <tr>\n",
       "      <th>Date</th>\n",
       "      <th></th>\n",
       "      <th></th>\n",
       "      <th></th>\n",
       "      <th></th>\n",
       "      <th></th>\n",
       "      <th></th>\n",
       "      <th></th>\n",
       "    </tr>\n",
       "  </thead>\n",
       "  <tbody>\n",
       "    <tr>\n",
       "      <th>2010-06-29</th>\n",
       "      <td>5.000000</td>\n",
       "      <td>3.508000</td>\n",
       "      <td>3.800000</td>\n",
       "      <td>4.778000</td>\n",
       "      <td>93831500</td>\n",
       "      <td>4.778000</td>\n",
       "      <td>4.778000</td>\n",
       "    </tr>\n",
       "    <tr>\n",
       "      <th>2010-06-30</th>\n",
       "      <td>6.084000</td>\n",
       "      <td>4.660000</td>\n",
       "      <td>5.158000</td>\n",
       "      <td>4.766000</td>\n",
       "      <td>85935500</td>\n",
       "      <td>4.766000</td>\n",
       "      <td>4.772000</td>\n",
       "    </tr>\n",
       "    <tr>\n",
       "      <th>2010-07-01</th>\n",
       "      <td>5.184000</td>\n",
       "      <td>4.054000</td>\n",
       "      <td>5.000000</td>\n",
       "      <td>4.392000</td>\n",
       "      <td>41094000</td>\n",
       "      <td>4.392000</td>\n",
       "      <td>4.645333</td>\n",
       "    </tr>\n",
       "    <tr>\n",
       "      <th>2010-07-02</th>\n",
       "      <td>4.620000</td>\n",
       "      <td>3.742000</td>\n",
       "      <td>4.600000</td>\n",
       "      <td>3.840000</td>\n",
       "      <td>25699000</td>\n",
       "      <td>3.840000</td>\n",
       "      <td>4.444000</td>\n",
       "    </tr>\n",
       "    <tr>\n",
       "      <th>2010-07-06</th>\n",
       "      <td>4.000000</td>\n",
       "      <td>3.166000</td>\n",
       "      <td>4.000000</td>\n",
       "      <td>3.222000</td>\n",
       "      <td>34334500</td>\n",
       "      <td>3.222000</td>\n",
       "      <td>4.199600</td>\n",
       "    </tr>\n",
       "    <tr>\n",
       "      <th>...</th>\n",
       "      <td>...</td>\n",
       "      <td>...</td>\n",
       "      <td>...</td>\n",
       "      <td>...</td>\n",
       "      <td>...</td>\n",
       "      <td>...</td>\n",
       "      <td>...</td>\n",
       "    </tr>\n",
       "    <tr>\n",
       "      <th>2015-12-24</th>\n",
       "      <td>46.375999</td>\n",
       "      <td>45.655998</td>\n",
       "      <td>46.112000</td>\n",
       "      <td>46.113998</td>\n",
       "      <td>3540000</td>\n",
       "      <td>46.113998</td>\n",
       "      <td>46.682240</td>\n",
       "    </tr>\n",
       "    <tr>\n",
       "      <th>2015-12-28</th>\n",
       "      <td>46.396000</td>\n",
       "      <td>45.108002</td>\n",
       "      <td>46.298000</td>\n",
       "      <td>45.790001</td>\n",
       "      <td>9506500</td>\n",
       "      <td>45.790001</td>\n",
       "      <td>46.599880</td>\n",
       "    </tr>\n",
       "    <tr>\n",
       "      <th>2015-12-29</th>\n",
       "      <td>47.543999</td>\n",
       "      <td>45.910000</td>\n",
       "      <td>46.012001</td>\n",
       "      <td>47.438000</td>\n",
       "      <td>12031500</td>\n",
       "      <td>47.438000</td>\n",
       "      <td>46.582000</td>\n",
       "    </tr>\n",
       "    <tr>\n",
       "      <th>2015-12-30</th>\n",
       "      <td>48.726002</td>\n",
       "      <td>47.133999</td>\n",
       "      <td>47.320000</td>\n",
       "      <td>47.618000</td>\n",
       "      <td>18489500</td>\n",
       "      <td>47.618000</td>\n",
       "      <td>46.573160</td>\n",
       "    </tr>\n",
       "    <tr>\n",
       "      <th>2015-12-31</th>\n",
       "      <td>48.689999</td>\n",
       "      <td>47.674000</td>\n",
       "      <td>47.702000</td>\n",
       "      <td>48.001999</td>\n",
       "      <td>13575000</td>\n",
       "      <td>48.001999</td>\n",
       "      <td>46.570900</td>\n",
       "    </tr>\n",
       "  </tbody>\n",
       "</table>\n",
       "<p>1388 rows × 7 columns</p>\n",
       "</div>"
      ],
      "text/plain": [
       "                 High        Low       Open      Close    Volume  Adj Close  \\\n",
       "Date                                                                          \n",
       "2010-06-29   5.000000   3.508000   3.800000   4.778000  93831500   4.778000   \n",
       "2010-06-30   6.084000   4.660000   5.158000   4.766000  85935500   4.766000   \n",
       "2010-07-01   5.184000   4.054000   5.000000   4.392000  41094000   4.392000   \n",
       "2010-07-02   4.620000   3.742000   4.600000   3.840000  25699000   3.840000   \n",
       "2010-07-06   4.000000   3.166000   4.000000   3.222000  34334500   3.222000   \n",
       "...               ...        ...        ...        ...       ...        ...   \n",
       "2015-12-24  46.375999  45.655998  46.112000  46.113998   3540000  46.113998   \n",
       "2015-12-28  46.396000  45.108002  46.298000  45.790001   9506500  45.790001   \n",
       "2015-12-29  47.543999  45.910000  46.012001  47.438000  12031500  47.438000   \n",
       "2015-12-30  48.726002  47.133999  47.320000  47.618000  18489500  47.618000   \n",
       "2015-12-31  48.689999  47.674000  47.702000  48.001999  13575000  48.001999   \n",
       "\n",
       "                100ma  \n",
       "Date                   \n",
       "2010-06-29   4.778000  \n",
       "2010-06-30   4.772000  \n",
       "2010-07-01   4.645333  \n",
       "2010-07-02   4.444000  \n",
       "2010-07-06   4.199600  \n",
       "...               ...  \n",
       "2015-12-24  46.682240  \n",
       "2015-12-28  46.599880  \n",
       "2015-12-29  46.582000  \n",
       "2015-12-30  46.573160  \n",
       "2015-12-31  46.570900  \n",
       "\n",
       "[1388 rows x 7 columns]"
      ]
     },
     "execution_count": 60,
     "metadata": {},
     "output_type": "execute_result"
    }
   ],
   "source": [
    "df"
   ]
  },
  {
   "cell_type": "code",
   "execution_count": 61,
   "metadata": {
    "ExecuteTime": {
     "end_time": "2021-12-28T20:17:54.569889Z",
     "start_time": "2021-12-28T20:17:53.289326Z"
    }
   },
   "outputs": [
    {
     "data": {
      "text/plain": [
       "<BarContainer object of 1388 artists>"
      ]
     },
     "execution_count": 61,
     "metadata": {},
     "output_type": "execute_result"
    }
   ],
   "source": [
    "ax1 = plt.subplot2grid((6, 1), (0, 0), rowspan=5, colspan=1)\n",
    "ax2 = plt.subplot2grid((6, 1), (5, 0), rowspan=1, colspan=1, sharex=ax1)\n",
    "\n",
    "ax1.plot(df.index, df['Adj Close'])\n",
    "ax1.plot(df.index, df['100ma'])\n",
    "ax2.bar(df.index, df['Volume'])"
   ]
  },
  {
   "cell_type": "code",
   "execution_count": null,
   "metadata": {},
   "outputs": [],
   "source": []
  }
 ],
 "metadata": {
  "interpreter": {
   "hash": "b52b0558b1127d624d881a850403e0dce177c8629bf58109f12fa87679216af6"
  },
  "kernelspec": {
   "display_name": "Python 3 (ipykernel)",
   "language": "python",
   "name": "python3"
  },
  "language_info": {
   "codemirror_mode": {
    "name": "ipython",
    "version": 3
   },
   "file_extension": ".py",
   "mimetype": "text/x-python",
   "name": "python",
   "nbconvert_exporter": "python",
   "pygments_lexer": "ipython3",
   "version": "3.9.7"
  }
 },
 "nbformat": 4,
 "nbformat_minor": 2
}
