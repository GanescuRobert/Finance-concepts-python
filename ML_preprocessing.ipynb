{
 "cells": [
  {
   "cell_type": "code",
   "execution_count": 1,
   "id": "61801894",
   "metadata": {
    "ExecuteTime": {
     "end_time": "2021-12-29T23:21:49.129258Z",
     "start_time": "2021-12-29T23:21:47.181781Z"
    }
   },
   "outputs": [],
   "source": [
    "from collections import Counter\n",
    "import matplotlib.pyplot as plt\n",
    "import pandas as pd\n",
    "import pickle\n",
    "import seaborn as sns\n",
    "import numpy as np\n",
    "\n",
    "%matplotlib inline"
   ]
  },
  {
   "cell_type": "code",
   "execution_count": 2,
   "id": "b2618565",
   "metadata": {
    "ExecuteTime": {
     "end_time": "2021-12-29T23:21:49.407806Z",
     "start_time": "2021-12-29T23:21:49.130719Z"
    }
   },
   "outputs": [],
   "source": [
    "from sklearn.svm import SVC\n",
    "from sklearn.neighbors import KNeighborsClassifier\n",
    "from sklearn.model_selection import train_test_split\n",
    "from sklearn.ensemble import VotingClassifier, RandomForestClassifier"
   ]
  },
  {
   "cell_type": "code",
   "execution_count": 3,
   "id": "3c9bde21",
   "metadata": {
    "ExecuteTime": {
     "end_time": "2021-12-29T23:21:49.423292Z",
     "start_time": "2021-12-29T23:21:49.411232Z"
    }
   },
   "outputs": [],
   "source": [
    "hm_days = 7\n",
    "\n",
    "\n",
    "def process_data_for_labels(ticker):\n",
    "    df = pd.read_csv('sp500_joined_adjcloses.csv', index_col=0)\n",
    "    tickers = df.columns.values.tolist()\n",
    "    df.fillna(0, inplace=True)\n",
    "\n",
    "    for i in range(1, hm_days+1):\n",
    "        df['{}_{}d'.format(ticker, i)] = (\n",
    "            df[ticker].shift(-i) - df[ticker]) / df[ticker]\n",
    "\n",
    "    df.fillna(0, inplace=True)\n",
    "    return tickers, df"
   ]
  },
  {
   "cell_type": "code",
   "execution_count": 4,
   "id": "ecb7e778",
   "metadata": {
    "ExecuteTime": {
     "end_time": "2021-12-29T23:21:49.469288Z",
     "start_time": "2021-12-29T23:21:49.424766Z"
    }
   },
   "outputs": [],
   "source": [
    "# process_data_for_labels('XOM')"
   ]
  },
  {
   "cell_type": "code",
   "execution_count": 5,
   "id": "0b2fd9d3",
   "metadata": {
    "ExecuteTime": {
     "end_time": "2021-12-29T23:21:49.500207Z",
     "start_time": "2021-12-29T23:21:49.470645Z"
    }
   },
   "outputs": [],
   "source": [
    "def buy_sell_hold(*args):\n",
    "    cols = [c for c in args]\n",
    "    requirement = 0.025\n",
    "    for col in cols:\n",
    "        if col > requirement:\n",
    "            return 1\n",
    "        elif col < -requirement:\n",
    "            return -1\n",
    "    return 0"
   ]
  },
  {
   "cell_type": "code",
   "execution_count": 6,
   "id": "106ad803",
   "metadata": {
    "ExecuteTime": {
     "end_time": "2021-12-29T23:21:49.546416Z",
     "start_time": "2021-12-29T23:21:49.501667Z"
    }
   },
   "outputs": [],
   "source": [
    "def extract_featuresets(ticker):\n",
    "    tickers, df = process_data_for_labels(ticker)\n",
    "\n",
    "    df['{}_target'.format(ticker)] = list(map(buy_sell_hold, *[df['{}_{}d'.format(ticker, i)]\n",
    "                                                               for i in range(1, hm_days+1)]))\n",
    "\n",
    "#                                               df['{}_1d'.format(ticker)],\n",
    "#                                               df['{}_2d'.format(ticker)],\n",
    "#                                               df['{}_3d'.format(ticker)],\n",
    "#                                               df['{}_4d'.format(ticker)],\n",
    "#                                               df['{}_5d'.format(ticker)],\n",
    "#                                               df['{}_6d'.format(ticker)],\n",
    "#                                               df['{}_7d'.format(ticker)]))\n",
    "\n",
    "    vals = df['{}_target'.format(ticker)].values.tolist()\n",
    "    str_vals = [str(i) for i in vals]\n",
    "    print('Data spread:', Counter(str_vals))\n",
    "\n",
    "    df.fillna(0, inplace=True)\n",
    "    df = df.replace([np.inf, -np.inf], np.nan)\n",
    "    df.dropna(inplace=True)\n",
    "\n",
    "    df_vals = df[[ticker for ticker in tickers]].pct_change()\n",
    "    df_vals = df_vals.replace([np.inf, -np.inf], 0)\n",
    "    df_vals.fillna(0, inplace=True)\n",
    "\n",
    "    X, y = df_vals.values, df['{}_target'.format(ticker)].values\n",
    "    return X, y, df"
   ]
  },
  {
   "cell_type": "code",
   "execution_count": 7,
   "id": "8692fbcb",
   "metadata": {
    "ExecuteTime": {
     "end_time": "2021-12-29T23:21:49.592600Z",
     "start_time": "2021-12-29T23:21:49.548915Z"
    }
   },
   "outputs": [],
   "source": [
    "# X, y, df = extract_featuresets('XOM')"
   ]
  },
  {
   "cell_type": "code",
   "execution_count": 8,
   "id": "7c0bf034",
   "metadata": {
    "ExecuteTime": {
     "end_time": "2021-12-29T23:21:49.639202Z",
     "start_time": "2021-12-29T23:21:49.594102Z"
    }
   },
   "outputs": [],
   "source": [
    "def do_ml(ticker):\n",
    "    X, y, df = extract_featuresets(ticker)\n",
    "\n",
    "    X_train, X_test, y_train, y_test = train_test_split(X, y, test_size=0.25)\n",
    "\n",
    "#     clf = KNeighborsClassifier()\n",
    "    clf = VotingClassifier(\n",
    "        [('lsvc', SVC()), ('knn', KNeighborsClassifier()), ('rfc', RandomForestClassifier())])\n",
    "\n",
    "    clf.fit(X_train, y_train)\n",
    "\n",
    "    confidence = clf.score(X_test, y_test)\n",
    "    print('Accuracy', confidence)\n",
    "\n",
    "    y_predict = clf.predict(X_test)\n",
    "    print('Predicted spread:', Counter(y_predict),'True spread:', Counter(y_test))\n",
    "\n",
    "    return confidence"
   ]
  },
  {
   "cell_type": "code",
   "execution_count": 9,
   "id": "2f70dc5c",
   "metadata": {
    "ExecuteTime": {
     "end_time": "2021-12-29T23:22:03.176279Z",
     "start_time": "2021-12-29T23:21:49.641048Z"
    }
   },
   "outputs": [
    {
     "name": "stdout",
     "output_type": "stream",
     "text": [
      "Data spread: Counter({'1': 1587, '-1': 1476, '0': 1216})\n",
      "Accuracy 0.44485981308411215\n",
      "Predicted spread: Counter({-1: 429, 1: 347, 0: 294}) True spread: Counter({1: 393, -1: 372, 0: 305})\n"
     ]
    },
    {
     "data": {
      "text/plain": [
       "0.44485981308411215"
      ]
     },
     "execution_count": 9,
     "metadata": {},
     "output_type": "execute_result"
    }
   ],
   "source": [
    "do_ml('BAC')"
   ]
  }
 ],
 "metadata": {
  "kernelspec": {
   "display_name": "Python 3 (ipykernel)",
   "language": "python",
   "name": "python3"
  },
  "language_info": {
   "codemirror_mode": {
    "name": "ipython",
    "version": 3
   },
   "file_extension": ".py",
   "mimetype": "text/x-python",
   "name": "python",
   "nbconvert_exporter": "python",
   "pygments_lexer": "ipython3",
   "version": "3.9.7"
  }
 },
 "nbformat": 4,
 "nbformat_minor": 5
}
