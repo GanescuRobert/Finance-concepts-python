{
 "cells": [
  {
   "cell_type": "code",
   "execution_count": 1,
   "id": "61801894",
   "metadata": {
    "ExecuteTime": {
     "end_time": "2021-12-29T22:49:02.641782Z",
     "start_time": "2021-12-29T22:49:00.800871Z"
    }
   },
   "outputs": [],
   "source": [
    "from collections import Counter\n",
    "import matplotlib.pyplot as plt\n",
    "import pandas as pd\n",
    "import pickle\n",
    "import seaborn as sns\n",
    "import numpy as np\n",
    "\n",
    "%matplotlib inline"
   ]
  },
  {
   "cell_type": "code",
   "execution_count": 2,
   "id": "3c9bde21",
   "metadata": {
    "ExecuteTime": {
     "end_time": "2021-12-29T22:49:02.657284Z",
     "start_time": "2021-12-29T22:49:02.643785Z"
    }
   },
   "outputs": [],
   "source": [
    "hm_days = 7\n",
    "\n",
    "\n",
    "def process_data_for_labels(ticker):\n",
    "    df = pd.read_csv('sp500_joined_adjcloses.csv', index_col=0)\n",
    "    tickers = df.columns.values.tolist()\n",
    "    df.fillna(0, inplace=True)\n",
    "\n",
    "    for i in range(1, hm_days+1):\n",
    "        df['{}_{}d'.format(ticker, i)] = (\n",
    "            df[ticker].shift(-i) - df[ticker]) / df[ticker]\n",
    "\n",
    "    df.fillna(0, inplace=True)\n",
    "    return tickers, df"
   ]
  },
  {
   "cell_type": "code",
   "execution_count": 3,
   "id": "ecb7e778",
   "metadata": {
    "ExecuteTime": {
     "end_time": "2021-12-29T22:49:02.796783Z",
     "start_time": "2021-12-29T22:49:02.661785Z"
    }
   },
   "outputs": [],
   "source": [
    "# process_data_for_labels('XOM')"
   ]
  },
  {
   "cell_type": "code",
   "execution_count": 4,
   "id": "0b2fd9d3",
   "metadata": {
    "ExecuteTime": {
     "end_time": "2021-12-29T22:49:02.889890Z",
     "start_time": "2021-12-29T22:49:02.798787Z"
    }
   },
   "outputs": [],
   "source": [
    "def buy_sell_hold(*args):\n",
    "    cols = [c for c in args]\n",
    "    requirement = 0.02\n",
    "    for col in cols:\n",
    "        if col > requirement:\n",
    "            return 1\n",
    "        elif col < -requirement:\n",
    "            return -1\n",
    "    return 0"
   ]
  },
  {
   "cell_type": "code",
   "execution_count": 5,
   "id": "106ad803",
   "metadata": {
    "ExecuteTime": {
     "end_time": "2021-12-29T22:49:02.997727Z",
     "start_time": "2021-12-29T22:49:02.891283Z"
    }
   },
   "outputs": [],
   "source": [
    "def extract_featuresets(ticker):\n",
    "    tickers, df = process_data_for_labels(ticker)\n",
    "\n",
    "    df['{}_target'.format(ticker)] = list(map(buy_sell_hold, *[df['{}_{}d'.format(ticker, i)]\n",
    "                                                               for i in range(1, hm_days+1)]))\n",
    "\n",
    "#                                               df['{}_1d'.format(ticker)],\n",
    "#                                               df['{}_2d'.format(ticker)],\n",
    "#                                               df['{}_3d'.format(ticker)],\n",
    "#                                               df['{}_4d'.format(ticker)],\n",
    "#                                               df['{}_5d'.format(ticker)],\n",
    "#                                               df['{}_6d'.format(ticker)],\n",
    "#                                               df['{}_7d'.format(ticker)]))\n",
    "\n",
    "    vals = df['{}_target'.format(ticker)].values.tolist()\n",
    "    str_vals = [str(i) for i in vals]\n",
    "    print('Data spread:', Counter(str_vals))\n",
    "\n",
    "    df.fillna(0, inplace=True)\n",
    "    df = df.replace([np.inf, -np.inf], np.nan)\n",
    "    df.dropna(inplace=True)\n",
    "\n",
    "    df_vals = df[[ticker for ticker in tickers]].pct_change()\n",
    "    df_vals = df_vals.replace([np.inf, -np.inf], 0)\n",
    "    df_vals.fillna(0, inplace=True)\n",
    "\n",
    "    X, y = df_vals.values, df['{}_target'.format(ticker)].values\n",
    "    return X, y, df"
   ]
  },
  {
   "cell_type": "code",
   "execution_count": 6,
   "id": "8692fbcb",
   "metadata": {
    "ExecuteTime": {
     "end_time": "2021-12-29T22:49:03.771843Z",
     "start_time": "2021-12-29T22:49:02.999227Z"
    }
   },
   "outputs": [
    {
     "name": "stdout",
     "output_type": "stream",
     "text": [
      "Data spread: Counter({'1': 1715, '-1': 1456, '0': 1108})\n"
     ]
    }
   ],
   "source": [
    "X, y, df = extract_featuresets('XOM')"
   ]
  }
 ],
 "metadata": {
  "kernelspec": {
   "display_name": "Python 3 (ipykernel)",
   "language": "python",
   "name": "python3"
  },
  "language_info": {
   "codemirror_mode": {
    "name": "ipython",
    "version": 3
   },
   "file_extension": ".py",
   "mimetype": "text/x-python",
   "name": "python",
   "nbconvert_exporter": "python",
   "pygments_lexer": "ipython3",
   "version": "3.9.7"
  }
 },
 "nbformat": 4,
 "nbformat_minor": 5
}
